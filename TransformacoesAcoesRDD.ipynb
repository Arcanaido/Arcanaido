{
  "nbformat": 4,
  "nbformat_minor": 0,
  "metadata": {
    "colab": {
      "provenance": [],
      "authorship_tag": "ABX9TyM1dmqVR/1WXHCYQ2Ezyyta",
      "include_colab_link": true
    },
    "kernelspec": {
      "name": "python3",
      "display_name": "Python 3"
    },
    "language_info": {
      "name": "python"
    }
  },
  "cells": [
    {
      "cell_type": "markdown",
      "metadata": {
        "id": "view-in-github",
        "colab_type": "text"
      },
      "source": [
        "<a href=\"https://colab.research.google.com/github/Arcanaido/Arcanaido/blob/main/TransformacoesAcoesRDD.ipynb\" target=\"_parent\"><img src=\"https://colab.research.google.com/assets/colab-badge.svg\" alt=\"Open In Colab\"/></a>"
      ]
    },
    {
      "cell_type": "code",
      "execution_count": null,
      "metadata": {
        "colab": {
          "base_uri": "https://localhost:8080/"
        },
        "id": "mXe9VYhYZt9c",
        "outputId": "68978c16-1922-4443-c59a-2222563a9c0f"
      },
      "outputs": [
        {
          "output_type": "stream",
          "name": "stdout",
          "text": [
            "Requirement already satisfied: pyspark in /usr/local/lib/python3.11/dist-packages (3.5.1)\n",
            "Requirement already satisfied: py4j==0.10.9.7 in /usr/local/lib/python3.11/dist-packages (from pyspark) (0.10.9.7)\n"
          ]
        }
      ],
      "source": [
        "!pip install pyspark"
      ]
    },
    {
      "cell_type": "code",
      "source": [
        "import pyspark\n",
        "from pyspark import SparkContext, SparkConf"
      ],
      "metadata": {
        "id": "GNkS8ITYZ1im"
      },
      "execution_count": null,
      "outputs": []
    },
    {
      "cell_type": "code",
      "source": [
        "conf = SparkConf().setAppName(\"Leitura de arquivo texto\")\n",
        "sc = SparkContext(conf=conf).getOrCreate()"
      ],
      "metadata": {
        "id": "xrKjn9TJaDOs"
      },
      "execution_count": null,
      "outputs": []
    },
    {
      "cell_type": "code",
      "source": [
        "rdd = sc.textFile(\"sample_data/README.md\")"
      ],
      "metadata": {
        "id": "K-HVXv2uaUoR"
      },
      "execution_count": null,
      "outputs": []
    },
    {
      "cell_type": "code",
      "source": [
        "rdd.count()"
      ],
      "metadata": {
        "colab": {
          "base_uri": "https://localhost:8080/"
        },
        "id": "fCX6A-Xfa1qD",
        "outputId": "d40eb12d-ed91-4331-b0c8-6bed41342e29"
      },
      "execution_count": null,
      "outputs": [
        {
          "output_type": "execute_result",
          "data": {
            "text/plain": [
              "19"
            ]
          },
          "metadata": {},
          "execution_count": 7
        }
      ]
    },
    {
      "cell_type": "code",
      "source": [
        "rdd.take(10)"
      ],
      "metadata": {
        "colab": {
          "base_uri": "https://localhost:8080/"
        },
        "id": "B78ZxlVda9f7",
        "outputId": "29124e26-e554-4bf0-d65e-7092afe199c0"
      },
      "execution_count": null,
      "outputs": [
        {
          "output_type": "execute_result",
          "data": {
            "text/plain": [
              "['This directory includes a few sample datasets to get you started.',\n",
              " '',\n",
              " '*   `california_housing_data*.csv` is California housing data from the 1990 US',\n",
              " '    Census; more information is available at:',\n",
              " '    https://docs.google.com/document/d/e/2PACX-1vRhYtsvc5eOR2FWNCwaBiKL6suIOrxJig8LcSBbmCbyYsayia_DvPOOBlXZ4CAlQ5nlDD8kTaIDRwrN/pub',\n",
              " '',\n",
              " '*   `mnist_*.csv` is a small sample of the',\n",
              " '    [MNIST database](https://en.wikipedia.org/wiki/MNIST_database), which is',\n",
              " '    described at: http://yann.lecun.com/exdb/mnist/',\n",
              " '']"
            ]
          },
          "metadata": {},
          "execution_count": 8
        }
      ]
    },
    {
      "cell_type": "code",
      "source": [
        "palavra = rdd.flatMap(lambda x:x.split(' '))\n",
        "palavra.take(5)"
      ],
      "metadata": {
        "colab": {
          "base_uri": "https://localhost:8080/"
        },
        "id": "f-imv6unbAOa",
        "outputId": "52b0b33d-6cfe-40c3-8935-f3a28fc80ee1"
      },
      "execution_count": null,
      "outputs": [
        {
          "output_type": "execute_result",
          "data": {
            "text/plain": [
              "['This', 'directory', 'includes', 'a', 'few']"
            ]
          },
          "metadata": {},
          "execution_count": 9
        }
      ]
    },
    {
      "cell_type": "code",
      "source": [
        "palavraMinuscula = palavra.map(lambda x:x.lower()) #percorre a frase\n",
        "print('Map: ', palavraMinuscula.take(5))\n",
        "\n",
        "palavraMinusculaFlatMap = palavra.flatMap(lambda x:x.upper()) #percorre cada letra\n",
        "print('FlatMap: ', palavraMinusculaFlatMap.take(5))"
      ],
      "metadata": {
        "colab": {
          "base_uri": "https://localhost:8080/"
        },
        "id": "0DBQwc3zbJv1",
        "outputId": "d186d01c-2d42-47e6-a51f-652ef2b75798"
      },
      "execution_count": null,
      "outputs": [
        {
          "output_type": "stream",
          "name": "stdout",
          "text": [
            "Map:  ['this', 'directory', 'includes', 'a', 'few']\n",
            "FlatMap:  ['T', 'H', 'I', 'S', 'D']\n"
          ]
        }
      ]
    },
    {
      "cell_type": "code",
      "source": [
        "palavraComecaT = palavraMinuscula.filter(lambda x:x.startswith('t'))\n",
        "print(palavraComecaT.take(5))\n",
        "\n",
        "palavraMin2 = palavraMinuscula.filter(lambda x: len(x) > 2)\n",
        "print(palavraMin2.take(5))"
      ],
      "metadata": {
        "colab": {
          "base_uri": "https://localhost:8080/"
        },
        "id": "jEVH9S4ccYXd",
        "outputId": "caeb9d2f-5809-4bfb-e0f2-8759bcac0ce0"
      },
      "execution_count": null,
      "outputs": [
        {
          "output_type": "stream",
          "name": "stdout",
          "text": [
            "['this', 'to', 'the', 'the', 'the']\n",
            "['this', 'directory', 'includes', 'few', 'sample']\n"
          ]
        }
      ]
    },
    {
      "cell_type": "code",
      "source": [
        "palavraChaveValor = palavraMin2.map(lambda x:(x,1))\n",
        "palavraChaveValor.take(5)"
      ],
      "metadata": {
        "colab": {
          "base_uri": "https://localhost:8080/"
        },
        "id": "4mV8inRFdAoV",
        "outputId": "0f4a30e1-fba4-430e-846e-52f783e86a36"
      },
      "execution_count": null,
      "outputs": [
        {
          "output_type": "execute_result",
          "data": {
            "text/plain": [
              "[('this', 1), ('directory', 1), ('includes', 1), ('few', 1), ('sample', 1)]"
            ]
          },
          "metadata": {},
          "execution_count": 13
        }
      ]
    },
    {
      "cell_type": "code",
      "source": [
        "palavraContar = palavraChaveValor.reduceByKey(lambda x,y: x+y)\n",
        "palavraContarOrd = palavraContar.sortByKey(ascending=-1)\n",
        "palavraContar.take(20)"
      ],
      "metadata": {
        "colab": {
          "base_uri": "https://localhost:8080/"
        },
        "id": "DWs8MCA3dKLI",
        "outputId": "343ec7ab-c384-42ba-ac41-3b338a5f8115"
      },
      "execution_count": null,
      "outputs": [
        {
          "output_type": "execute_result",
          "data": {
            "text/plain": [
              "[('this', 1),\n",
              " ('sample', 2),\n",
              " ('datasets', 1),\n",
              " ('you', 1),\n",
              " ('started.', 1),\n",
              " ('`california_housing_data*.csv`', 1),\n",
              " ('from', 1),\n",
              " ('1990', 1),\n",
              " ('more', 1),\n",
              " ('information', 1),\n",
              " ('available', 1),\n",
              " ('small', 1),\n",
              " ('database](https://en.wikipedia.org/wiki/mnist_database),', 1),\n",
              " ('described', 2),\n",
              " (\"[anscombe's\", 1),\n",
              " ('statistical', 1),\n",
              " (\"analysis'.\", 1),\n",
              " ('american', 1),\n",
              " ('jstor', 1),\n",
              " ('2682899.', 1)]"
            ]
          },
          "metadata": {},
          "execution_count": 14
        }
      ]
    },
    {
      "cell_type": "code",
      "source": [
        "palavraContar.saveAsTextFile(\"contar_palavras_out\")"
      ],
      "metadata": {
        "id": "HsrwbsYyelvG"
      },
      "execution_count": null,
      "outputs": []
    },
    {
      "cell_type": "code",
      "source": [
        "!Is contar_palavras_out/"
      ],
      "metadata": {
        "colab": {
          "base_uri": "https://localhost:8080/"
        },
        "id": "wtz_85qKfGfE",
        "outputId": "5f15941e-ee20-4dca-f354-e24ae521559d"
      },
      "execution_count": null,
      "outputs": [
        {
          "output_type": "stream",
          "name": "stdout",
          "text": [
            "/bin/bash: line 1: Is: command not found\n"
          ]
        }
      ]
    },
    {
      "cell_type": "code",
      "source": [
        "rddContarPalavras = sc.textFile(\"contar_palavras_out\")\n",
        "rddContarPalavras.take(10)"
      ],
      "metadata": {
        "colab": {
          "base_uri": "https://localhost:8080/"
        },
        "id": "zLDSHLB0fKxZ",
        "outputId": "09daa687-16bc-4fa3-b2c5-44f39ebed47d"
      },
      "execution_count": null,
      "outputs": [
        {
          "output_type": "execute_result",
          "data": {
            "text/plain": [
              "[\"('this', 1)\",\n",
              " \"('sample', 2)\",\n",
              " \"('datasets', 1)\",\n",
              " \"('you', 1)\",\n",
              " \"('started.', 1)\",\n",
              " \"('`california_housing_data*.csv`', 1)\",\n",
              " \"('from', 1)\",\n",
              " \"('1990', 1)\",\n",
              " \"('more', 1)\",\n",
              " \"('information', 1)\"]"
            ]
          },
          "metadata": {},
          "execution_count": 17
        }
      ]
    }
  ]
}