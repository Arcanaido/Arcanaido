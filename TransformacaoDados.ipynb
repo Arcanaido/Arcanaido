{
  "nbformat": 4,
  "nbformat_minor": 0,
  "metadata": {
    "colab": {
      "provenance": [],
      "mount_file_id": "1cPiNoOlmucVJIin_3xR1Jg0yHw2ByBKB",
      "authorship_tag": "ABX9TyPyr1k4ruJ2fOeGR3ZgT/sR",
      "include_colab_link": true
    },
    "kernelspec": {
      "name": "python3",
      "display_name": "Python 3"
    },
    "language_info": {
      "name": "python"
    }
  },
  "cells": [
    {
      "cell_type": "markdown",
      "metadata": {
        "id": "view-in-github",
        "colab_type": "text"
      },
      "source": [
        "<a href=\"https://colab.research.google.com/github/Arcanaido/Arcanaido/blob/main/TransformacaoDados.ipynb\" target=\"_parent\"><img src=\"https://colab.research.google.com/assets/colab-badge.svg\" alt=\"Open In Colab\"/></a>"
      ]
    },
    {
      "cell_type": "code",
      "execution_count": 3,
      "metadata": {
        "id": "Cbx7m5cCg3Rt",
        "colab": {
          "base_uri": "https://localhost:8080/"
        },
        "outputId": "632719d3-52f3-4fac-f64a-47b24b3eeeba"
      },
      "outputs": [
        {
          "output_type": "stream",
          "name": "stdout",
          "text": [
            "Requirement already satisfied: pyspark in /usr/local/lib/python3.11/dist-packages (3.5.1)\n",
            "Requirement already satisfied: py4j==0.10.9.7 in /usr/local/lib/python3.11/dist-packages (from pyspark) (0.10.9.7)\n"
          ]
        }
      ],
      "source": [
        "# Abilita o pyspark\n",
        "!pip install pyspark"
      ]
    },
    {
      "cell_type": "code",
      "source": [
        "# Importa o pyspark, SparkSession e outras funções do pyspark.sql\n",
        "import pyspark\n",
        "from pyspark.sql import SparkSession\n",
        "from pyspark.sql.functions import col, upper"
      ],
      "metadata": {
        "id": "rhPVCMPBg9df"
      },
      "execution_count": 4,
      "outputs": []
    },
    {
      "cell_type": "code",
      "source": [
        "#Iniciar sessão Spark\n",
        "spark = SparkSession.builder.getOrCreate()"
      ],
      "metadata": {
        "id": "DI6d8iA1OG13"
      },
      "execution_count": 5,
      "outputs": []
    },
    {
      "cell_type": "code",
      "source": [
        "# Guarda: Leitura do arquivo cvs \"vendedores\"\n",
        "vendedores = spark.read.csv(\"/content/drive/MyDrive/Colab Notebooks/data/vendedores.csv\", header=True, inferSchema=True)\n",
        "# Guarda: Leitura do arquivo csv \"itens_pedidos\"\n",
        "itens_pedido = spark.read.csv(\"/content/drive/MyDrive/Colab Notebooks/data/itens_pedido.csv\", header=True, inferSchema=True)"
      ],
      "metadata": {
        "id": "3EWrIlgwOPBH"
      },
      "execution_count": 6,
      "outputs": []
    },
    {
      "cell_type": "code",
      "source": [
        "# Apresenta os itens do dataframe vendedores de forma tabular\n",
        "vendedores.show()\n",
        "# Printa o schema das colunas (o tipo de dados que cada uma está configurada)\n",
        "vendedores.printSchema()"
      ],
      "metadata": {
        "colab": {
          "base_uri": "https://localhost:8080/"
        },
        "id": "LFcAwLcJPpxM",
        "outputId": "667d5374-1e6c-4c5b-df1f-fe1a667464f2"
      },
      "execution_count": 7,
      "outputs": [
        {
          "output_type": "stream",
          "name": "stdout",
          "text": [
            "+--------------------+------------+-----------------+---------------+\n",
            "|         id_vendedor|cep_vendedor|  cidade_vendedor|estado_vendedor|\n",
            "+--------------------+------------+-----------------+---------------+\n",
            "|3442f8959a84dea7e...|       13023|         campinas|             SP|\n",
            "|d1b65fc7debc3361e...|       13844|       mogi guacu|             SP|\n",
            "|ce3ad9de960102d06...|       20031|   rio de janeiro|             RJ|\n",
            "|c0f3eea2e14555b6f...|        4195|        sao paulo|             SP|\n",
            "|51a04a8a6bdcb23de...|       12914|braganca paulista|             SP|\n",
            "|c240c4061717ac180...|       20920|   rio de janeiro|             RJ|\n",
            "|e49c26c3edfa46d22...|       55325|           brejao|             PE|\n",
            "|1b938a7ec6ac5061a...|       16304|        penapolis|             SP|\n",
            "|768a86e36ad6aae3d...|        1529|        sao paulo|             SP|\n",
            "|ccc4bbb5f32a6ab2b...|       80310|         curitiba|             PR|\n",
            "|8cb7c5ddf41f4d506...|       75110|         anapolis|             GO|\n",
            "|a7a9b880c49781da6...|       13530|        itirapina|             SP|\n",
            "|8bd0f31cf0a614c65...|        1222|        sao paulo|             SP|\n",
            "|05a48cc8859962767...|        5372|        sao paulo|             SP|\n",
            "|7b8e8ec35bad4b0ef...|       88705|          tubarao|             SC|\n",
            "|1444c08e64d55fb3c...|       42738| lauro de freitas|             BA|\n",
            "|166e8f1381e096519...|       88780|         imbituba|             SC|\n",
            "|e38db885400cd35c7...|       70740|         brasilia|             DF|\n",
            "|d2e753bb80b7d4faa...|       45810|     porto seguro|             BA|\n",
            "|f9ec7093df3a7b346...|        5138|        sao paulo|             SP|\n",
            "+--------------------+------------+-----------------+---------------+\n",
            "only showing top 20 rows\n",
            "\n",
            "root\n",
            " |-- id_vendedor: string (nullable = true)\n",
            " |-- cep_vendedor: integer (nullable = true)\n",
            " |-- cidade_vendedor: string (nullable = true)\n",
            " |-- estado_vendedor: string (nullable = true)\n",
            "\n"
          ]
        }
      ]
    },
    {
      "cell_type": "code",
      "source": [
        "# tabela_alvo.withColumn(\"coluna_desejada\", tabela_alvo.coluna_alvo.funçãoDesejada())\n",
        "# Obs: Coluna_alvo pode ser a coluna_desejada ou outra coluna existente na tabela_alvo\n",
        "# Obs: caso a coluna desejada não exista será criada uma na tabela alvo, se já existir ele vai usá-la\n",
        "vendedores_tratados_df = vendedores.withColumn(\"cep_vendedor\", vendedores.cep_vendedor.cast('string'))\n",
        "\n",
        "# Segunda forma de usar o withColumn\n",
        "# tabela_alvo.withColumn(\"coluna_desejada\", funçãoDesejada(tabela_alvo['coluna_alvo']))\n",
        "vendedores_tratados_df = vendedores_tratados_df.withColumn(\"cidade_vendedor_tratado\", upper(vendedores['cidade_vendedor']))\n",
        "\n",
        "vendedores_tratados_df.show()\n",
        "vendedores_tratados_df.printSchema()"
      ],
      "metadata": {
        "colab": {
          "base_uri": "https://localhost:8080/"
        },
        "id": "o3VerVMzQg8C",
        "outputId": "412abd9b-671a-44b6-d8b4-96b391ff6258"
      },
      "execution_count": 8,
      "outputs": [
        {
          "output_type": "stream",
          "name": "stdout",
          "text": [
            "+--------------------+------------+-----------------+---------------+-----------------------+\n",
            "|         id_vendedor|cep_vendedor|  cidade_vendedor|estado_vendedor|cidade_vendedor_tratado|\n",
            "+--------------------+------------+-----------------+---------------+-----------------------+\n",
            "|3442f8959a84dea7e...|       13023|         campinas|             SP|               CAMPINAS|\n",
            "|d1b65fc7debc3361e...|       13844|       mogi guacu|             SP|             MOGI GUACU|\n",
            "|ce3ad9de960102d06...|       20031|   rio de janeiro|             RJ|         RIO DE JANEIRO|\n",
            "|c0f3eea2e14555b6f...|        4195|        sao paulo|             SP|              SAO PAULO|\n",
            "|51a04a8a6bdcb23de...|       12914|braganca paulista|             SP|      BRAGANCA PAULISTA|\n",
            "|c240c4061717ac180...|       20920|   rio de janeiro|             RJ|         RIO DE JANEIRO|\n",
            "|e49c26c3edfa46d22...|       55325|           brejao|             PE|                 BREJAO|\n",
            "|1b938a7ec6ac5061a...|       16304|        penapolis|             SP|              PENAPOLIS|\n",
            "|768a86e36ad6aae3d...|        1529|        sao paulo|             SP|              SAO PAULO|\n",
            "|ccc4bbb5f32a6ab2b...|       80310|         curitiba|             PR|               CURITIBA|\n",
            "|8cb7c5ddf41f4d506...|       75110|         anapolis|             GO|               ANAPOLIS|\n",
            "|a7a9b880c49781da6...|       13530|        itirapina|             SP|              ITIRAPINA|\n",
            "|8bd0f31cf0a614c65...|        1222|        sao paulo|             SP|              SAO PAULO|\n",
            "|05a48cc8859962767...|        5372|        sao paulo|             SP|              SAO PAULO|\n",
            "|7b8e8ec35bad4b0ef...|       88705|          tubarao|             SC|                TUBARAO|\n",
            "|1444c08e64d55fb3c...|       42738| lauro de freitas|             BA|       LAURO DE FREITAS|\n",
            "|166e8f1381e096519...|       88780|         imbituba|             SC|               IMBITUBA|\n",
            "|e38db885400cd35c7...|       70740|         brasilia|             DF|               BRASILIA|\n",
            "|d2e753bb80b7d4faa...|       45810|     porto seguro|             BA|           PORTO SEGURO|\n",
            "|f9ec7093df3a7b346...|        5138|        sao paulo|             SP|              SAO PAULO|\n",
            "+--------------------+------------+-----------------+---------------+-----------------------+\n",
            "only showing top 20 rows\n",
            "\n",
            "root\n",
            " |-- id_vendedor: string (nullable = true)\n",
            " |-- cep_vendedor: string (nullable = true)\n",
            " |-- cidade_vendedor: string (nullable = true)\n",
            " |-- estado_vendedor: string (nullable = true)\n",
            " |-- cidade_vendedor_tratado: string (nullable = true)\n",
            "\n"
          ]
        }
      ]
    },
    {
      "cell_type": "code",
      "source": [
        "itens_pedido.show()\n",
        "itens_pedido.printSchema()"
      ],
      "metadata": {
        "colab": {
          "base_uri": "https://localhost:8080/"
        },
        "id": "-wP8N0GZCjrH",
        "outputId": "a5353feb-9f16-4bb3-9c02-622f14f180a7"
      },
      "execution_count": 9,
      "outputs": [
        {
          "output_type": "stream",
          "name": "stdout",
          "text": [
            "+--------------------+--------------+--------------------+--------------------+-------------------+------+-----------+\n",
            "|           id_pedido|item_id_pedido|          id_produto|         id_vendedor|  data_limite_envio| preco|valor_frete|\n",
            "+--------------------+--------------+--------------------+--------------------+-------------------+------+-----------+\n",
            "|00010242fe8c5a6d1...|             1|4244733e06e7ecb49...|48436dade18ac8b2b...|2017-09-19 09:45:35|  58.9|      13.29|\n",
            "|00018f77f2f0320c5...|             1|e5f2d52b802189ee6...|dd7ddc04e1b6c2c61...|2017-05-03 11:05:13| 239.9|      19.93|\n",
            "|000229ec398224ef6...|             1|c777355d18b72b67a...|5b51032eddd242adc...|2018-01-18 14:48:30| 199.0|      17.87|\n",
            "|00024acbcdf0a6daa...|             1|7634da152a4610f15...|9d7a1d34a50524090...|2018-08-15 10:10:18| 12.99|      12.79|\n",
            "|00042b26cf59d7ce6...|             1|ac6c3623068f30de0...|df560393f3a51e745...|2017-02-13 13:57:51| 199.9|      18.14|\n",
            "|00048cc3ae777c65d...|             1|ef92defde845ab845...|6426d21aca402a131...|2017-05-23 03:55:27|  21.9|      12.69|\n",
            "|00054e8431b9d7675...|             1|8d4f2bb7e93e6710a...|7040e82f899a04d1b...|2017-12-14 12:10:31|  19.9|      11.85|\n",
            "|000576fe39319847c...|             1|557d850972a7d6f79...|5996cddab893a4652...|2018-07-10 12:30:45| 810.0|      70.75|\n",
            "|0005a1a1728c9d785...|             1|310ae3c140ff94b03...|a416b6a846a117243...|2018-03-26 18:31:29|145.95|      11.65|\n",
            "|0005f50442cb953dc...|             1|4535b0e1091c278df...|ba143b05f0110f0dc...|2018-07-06 14:10:56| 53.99|       11.4|\n",
            "|00061f2a7bc09da83...|             1|d63c1011f49d98b97...|cc419e0650a3c5ba7...|2018-03-29 22:28:09| 59.99|       8.88|\n",
            "|00063b381e2406b52...|             1|f177554ea93259a5b...|8602a61d680a10a82...|2018-07-31 17:30:39|  45.0|      12.98|\n",
            "|0006ec9db01a64e59...|             1|99a4788cb24856965...|4a3ca9315b744ce9f...|2018-07-26 17:24:20|  74.0|      23.32|\n",
            "|0008288aa423d2a3f...|             1|368c6c730842d7801...|1f50f920176fa81da...|2018-02-21 02:55:52|  49.9|      13.37|\n",
            "|0008288aa423d2a3f...|             2|368c6c730842d7801...|1f50f920176fa81da...|2018-02-21 02:55:52|  49.9|      13.37|\n",
            "|0009792311464db53...|             1|8cab8abac59158715...|530ec6109d11eaaf8...|2018-08-17 12:15:10|  99.9|      27.65|\n",
            "|0009c9a17f916a706...|             1|3f27ac8e699df3d30...|fcb5ace8bcc92f757...|2018-05-02 09:31:53| 639.0|      11.34|\n",
            "|000aed2e25dbad2f9...|             1|4fa33915031a8cde0...|fe2032dab1a61af87...|2018-05-16 20:57:03| 144.0|       8.77|\n",
            "|000c3e6612759851c...|             1|b50c950aba0dcead2...|218d46b86c1881d02...|2017-08-21 03:33:13|  99.0|      13.71|\n",
            "|000e562887b1f2006...|             1|5ed9eaf534f6936b5...|8cbac7e12637ed9cf...|2018-02-28 12:08:37|  25.0|      16.11|\n",
            "+--------------------+--------------+--------------------+--------------------+-------------------+------+-----------+\n",
            "only showing top 20 rows\n",
            "\n",
            "root\n",
            " |-- id_pedido: string (nullable = true)\n",
            " |-- item_id_pedido: integer (nullable = true)\n",
            " |-- id_produto: string (nullable = true)\n",
            " |-- id_vendedor: string (nullable = true)\n",
            " |-- data_limite_envio: timestamp (nullable = true)\n",
            " |-- preco: double (nullable = true)\n",
            " |-- valor_frete: double (nullable = true)\n",
            "\n"
          ]
        }
      ]
    },
    {
      "cell_type": "code",
      "source": [
        "itens_pedido_tratados_df = itens_pedido. \\\n",
        "    withColumn('preco', col('preco').cast('float')). \\\n",
        "    withColumn('calor_frete', col('valor_frete').cast('float')). \\\n",
        "    withColumnRenamed('valor_frete', 'frete') .\\\n",
        "    withColumn('valor_total', col('preco') + col('frete'))\n",
        "\n",
        "itens_pedido_tratados_df.show()\n",
        "itens_pedido_tratados_df.printSchema()"
      ],
      "metadata": {
        "colab": {
          "base_uri": "https://localhost:8080/"
        },
        "id": "s-5PDKRkCnbD",
        "outputId": "6bc41166-18ac-4f05-e210-74ecd98b3955"
      },
      "execution_count": 10,
      "outputs": [
        {
          "output_type": "stream",
          "name": "stdout",
          "text": [
            "+--------------------+--------------+--------------------+--------------------+-------------------+------+-----+-----------+------------------+\n",
            "|           id_pedido|item_id_pedido|          id_produto|         id_vendedor|  data_limite_envio| preco|frete|calor_frete|       valor_total|\n",
            "+--------------------+--------------+--------------------+--------------------+-------------------+------+-----+-----------+------------------+\n",
            "|00010242fe8c5a6d1...|             1|4244733e06e7ecb49...|48436dade18ac8b2b...|2017-09-19 09:45:35|  58.9|13.29|      13.29|  72.1900015258789|\n",
            "|00018f77f2f0320c5...|             1|e5f2d52b802189ee6...|dd7ddc04e1b6c2c61...|2017-05-03 11:05:13| 239.9|19.93|      19.93| 259.8299938964844|\n",
            "|000229ec398224ef6...|             1|c777355d18b72b67a...|5b51032eddd242adc...|2018-01-18 14:48:30| 199.0|17.87|      17.87|            216.87|\n",
            "|00024acbcdf0a6daa...|             1|7634da152a4610f15...|9d7a1d34a50524090...|2018-08-15 10:10:18| 12.99|12.79|      12.79|25.779999771118163|\n",
            "|00042b26cf59d7ce6...|             1|ac6c3623068f30de0...|df560393f3a51e745...|2017-02-13 13:57:51| 199.9|18.14|      18.14|218.03999389648436|\n",
            "|00048cc3ae777c65d...|             1|ef92defde845ab845...|6426d21aca402a131...|2017-05-23 03:55:27|  21.9|12.69|      12.69| 34.58999961853027|\n",
            "|00054e8431b9d7675...|             1|8d4f2bb7e93e6710a...|7040e82f899a04d1b...|2017-12-14 12:10:31|  19.9|11.85|      11.85|31.749999618530275|\n",
            "|000576fe39319847c...|             1|557d850972a7d6f79...|5996cddab893a4652...|2018-07-10 12:30:45| 810.0|70.75|      70.75|            880.75|\n",
            "|0005a1a1728c9d785...|             1|310ae3c140ff94b03...|a416b6a846a117243...|2018-03-26 18:31:29|145.95|11.65|      11.65| 157.5999969482422|\n",
            "|0005f50442cb953dc...|             1|4535b0e1091c278df...|ba143b05f0110f0dc...|2018-07-06 14:10:56| 53.99| 11.4|       11.4|  65.3900016784668|\n",
            "|00061f2a7bc09da83...|             1|d63c1011f49d98b97...|cc419e0650a3c5ba7...|2018-03-29 22:28:09| 59.99| 8.88|       8.88| 68.87000167846679|\n",
            "|00063b381e2406b52...|             1|f177554ea93259a5b...|8602a61d680a10a82...|2018-07-31 17:30:39|  45.0|12.98|      12.98|57.980000000000004|\n",
            "|0006ec9db01a64e59...|             1|99a4788cb24856965...|4a3ca9315b744ce9f...|2018-07-26 17:24:20|  74.0|23.32|      23.32|             97.32|\n",
            "|0008288aa423d2a3f...|             1|368c6c730842d7801...|1f50f920176fa81da...|2018-02-21 02:55:52|  49.9|13.37|      13.37|63.270001525878904|\n",
            "|0008288aa423d2a3f...|             2|368c6c730842d7801...|1f50f920176fa81da...|2018-02-21 02:55:52|  49.9|13.37|      13.37|63.270001525878904|\n",
            "|0009792311464db53...|             1|8cab8abac59158715...|530ec6109d11eaaf8...|2018-08-17 12:15:10|  99.9|27.65|      27.65|127.55000152587891|\n",
            "|0009c9a17f916a706...|             1|3f27ac8e699df3d30...|fcb5ace8bcc92f757...|2018-05-02 09:31:53| 639.0|11.34|      11.34|            650.34|\n",
            "|000aed2e25dbad2f9...|             1|4fa33915031a8cde0...|fe2032dab1a61af87...|2018-05-16 20:57:03| 144.0| 8.77|       8.77|            152.77|\n",
            "|000c3e6612759851c...|             1|b50c950aba0dcead2...|218d46b86c1881d02...|2017-08-21 03:33:13|  99.0|13.71|      13.71|112.71000000000001|\n",
            "|000e562887b1f2006...|             1|5ed9eaf534f6936b5...|8cbac7e12637ed9cf...|2018-02-28 12:08:37|  25.0|16.11|      16.11|             41.11|\n",
            "+--------------------+--------------+--------------------+--------------------+-------------------+------+-----+-----------+------------------+\n",
            "only showing top 20 rows\n",
            "\n",
            "root\n",
            " |-- id_pedido: string (nullable = true)\n",
            " |-- item_id_pedido: integer (nullable = true)\n",
            " |-- id_produto: string (nullable = true)\n",
            " |-- id_vendedor: string (nullable = true)\n",
            " |-- data_limite_envio: timestamp (nullable = true)\n",
            " |-- preco: float (nullable = true)\n",
            " |-- frete: double (nullable = true)\n",
            " |-- calor_frete: float (nullable = true)\n",
            " |-- valor_total: double (nullable = true)\n",
            "\n"
          ]
        }
      ]
    },
    {
      "cell_type": "code",
      "source": [
        "from pyspark.sql.functions import to_date, date_format\n",
        "\n",
        "# to_date -> Converte uma string ou um stimestamp em um objeto do tipo DateType\n",
        "# Para que serve: Útil quando você quer tratar apenas a data (sem hora) e precisa filtrar, agrupar ou ordernar por datas\n",
        "\n",
        "# date_format -> Converte um campo de data ou um timestamp em uma string formatada\n",
        "# Para que serve: Quando você quer extrair partes específicas de uma data (como \"ano-mês\", \"dia\", \"Hora\", etc.) ou exibir em um formato customizado\n",
        "\n",
        "# Guarda: Um dataframe que teve a coluna \"data_limite_envio\" covertida para o tipo DateType e depois nomeada para data\n",
        "itens_pedido_data_df = itens_pedido_tratados_df.withColumn(\"data\", to_date(col(\"data_limite_envio\")))\n",
        "\n",
        "# Guarda: Um dataframe cque teve a coluna data_limite_envio para uma string organizada em dia - mês - ano e nomeada data_hr\n",
        "itens_pedido_data_df = itens_pedido_data_df.withColumn('data_hr', date_format(col('data_limite_envio'), 'dd/MM/yyyy'))\n",
        "# Guarda: Um dataframe que teve a coluna data_limite_envio para uma string organizada em hora:minuto:segundo\n",
        "itens_pedido_data_df = itens_pedido_data_df.withColumn('hora', date_format(col('data_limite_envio'), \"HH:mm:ss\"))\n",
        "# Obs: 'MM' é para mês enquanto 'mm' é para minutos\n",
        "\n",
        "itens_pedido_data_df.show()\n",
        "itens_pedido_data_df.printSchema()"
      ],
      "metadata": {
        "colab": {
          "base_uri": "https://localhost:8080/"
        },
        "id": "4arfAHdsEA2S",
        "outputId": "10e47b0c-c5b7-4279-ce4c-e1a2bb45401b"
      },
      "execution_count": 12,
      "outputs": [
        {
          "output_type": "stream",
          "name": "stdout",
          "text": [
            "+--------------------+--------------+--------------------+--------------------+-------------------+------+-----+-----------+------------------+----------+----------+--------+\n",
            "|           id_pedido|item_id_pedido|          id_produto|         id_vendedor|  data_limite_envio| preco|frete|calor_frete|       valor_total|      data|   data_hr|    hora|\n",
            "+--------------------+--------------+--------------------+--------------------+-------------------+------+-----+-----------+------------------+----------+----------+--------+\n",
            "|00010242fe8c5a6d1...|             1|4244733e06e7ecb49...|48436dade18ac8b2b...|2017-09-19 09:45:35|  58.9|13.29|      13.29|  72.1900015258789|2017-09-19|19/09/2017|09:45:35|\n",
            "|00018f77f2f0320c5...|             1|e5f2d52b802189ee6...|dd7ddc04e1b6c2c61...|2017-05-03 11:05:13| 239.9|19.93|      19.93| 259.8299938964844|2017-05-03|03/05/2017|11:05:13|\n",
            "|000229ec398224ef6...|             1|c777355d18b72b67a...|5b51032eddd242adc...|2018-01-18 14:48:30| 199.0|17.87|      17.87|            216.87|2018-01-18|18/01/2018|14:48:30|\n",
            "|00024acbcdf0a6daa...|             1|7634da152a4610f15...|9d7a1d34a50524090...|2018-08-15 10:10:18| 12.99|12.79|      12.79|25.779999771118163|2018-08-15|15/08/2018|10:10:18|\n",
            "|00042b26cf59d7ce6...|             1|ac6c3623068f30de0...|df560393f3a51e745...|2017-02-13 13:57:51| 199.9|18.14|      18.14|218.03999389648436|2017-02-13|13/02/2017|13:57:51|\n",
            "|00048cc3ae777c65d...|             1|ef92defde845ab845...|6426d21aca402a131...|2017-05-23 03:55:27|  21.9|12.69|      12.69| 34.58999961853027|2017-05-23|23/05/2017|03:55:27|\n",
            "|00054e8431b9d7675...|             1|8d4f2bb7e93e6710a...|7040e82f899a04d1b...|2017-12-14 12:10:31|  19.9|11.85|      11.85|31.749999618530275|2017-12-14|14/12/2017|12:10:31|\n",
            "|000576fe39319847c...|             1|557d850972a7d6f79...|5996cddab893a4652...|2018-07-10 12:30:45| 810.0|70.75|      70.75|            880.75|2018-07-10|10/07/2018|12:30:45|\n",
            "|0005a1a1728c9d785...|             1|310ae3c140ff94b03...|a416b6a846a117243...|2018-03-26 18:31:29|145.95|11.65|      11.65| 157.5999969482422|2018-03-26|26/03/2018|18:31:29|\n",
            "|0005f50442cb953dc...|             1|4535b0e1091c278df...|ba143b05f0110f0dc...|2018-07-06 14:10:56| 53.99| 11.4|       11.4|  65.3900016784668|2018-07-06|06/07/2018|14:10:56|\n",
            "|00061f2a7bc09da83...|             1|d63c1011f49d98b97...|cc419e0650a3c5ba7...|2018-03-29 22:28:09| 59.99| 8.88|       8.88| 68.87000167846679|2018-03-29|29/03/2018|22:28:09|\n",
            "|00063b381e2406b52...|             1|f177554ea93259a5b...|8602a61d680a10a82...|2018-07-31 17:30:39|  45.0|12.98|      12.98|57.980000000000004|2018-07-31|31/07/2018|17:30:39|\n",
            "|0006ec9db01a64e59...|             1|99a4788cb24856965...|4a3ca9315b744ce9f...|2018-07-26 17:24:20|  74.0|23.32|      23.32|             97.32|2018-07-26|26/07/2018|17:24:20|\n",
            "|0008288aa423d2a3f...|             1|368c6c730842d7801...|1f50f920176fa81da...|2018-02-21 02:55:52|  49.9|13.37|      13.37|63.270001525878904|2018-02-21|21/02/2018|02:55:52|\n",
            "|0008288aa423d2a3f...|             2|368c6c730842d7801...|1f50f920176fa81da...|2018-02-21 02:55:52|  49.9|13.37|      13.37|63.270001525878904|2018-02-21|21/02/2018|02:55:52|\n",
            "|0009792311464db53...|             1|8cab8abac59158715...|530ec6109d11eaaf8...|2018-08-17 12:15:10|  99.9|27.65|      27.65|127.55000152587891|2018-08-17|17/08/2018|12:15:10|\n",
            "|0009c9a17f916a706...|             1|3f27ac8e699df3d30...|fcb5ace8bcc92f757...|2018-05-02 09:31:53| 639.0|11.34|      11.34|            650.34|2018-05-02|02/05/2018|09:31:53|\n",
            "|000aed2e25dbad2f9...|             1|4fa33915031a8cde0...|fe2032dab1a61af87...|2018-05-16 20:57:03| 144.0| 8.77|       8.77|            152.77|2018-05-16|16/05/2018|20:57:03|\n",
            "|000c3e6612759851c...|             1|b50c950aba0dcead2...|218d46b86c1881d02...|2017-08-21 03:33:13|  99.0|13.71|      13.71|112.71000000000001|2017-08-21|21/08/2017|03:33:13|\n",
            "|000e562887b1f2006...|             1|5ed9eaf534f6936b5...|8cbac7e12637ed9cf...|2018-02-28 12:08:37|  25.0|16.11|      16.11|             41.11|2018-02-28|28/02/2018|12:08:37|\n",
            "+--------------------+--------------+--------------------+--------------------+-------------------+------+-----+-----------+------------------+----------+----------+--------+\n",
            "only showing top 20 rows\n",
            "\n",
            "root\n",
            " |-- id_pedido: string (nullable = true)\n",
            " |-- item_id_pedido: integer (nullable = true)\n",
            " |-- id_produto: string (nullable = true)\n",
            " |-- id_vendedor: string (nullable = true)\n",
            " |-- data_limite_envio: timestamp (nullable = true)\n",
            " |-- preco: float (nullable = true)\n",
            " |-- frete: double (nullable = true)\n",
            " |-- calor_frete: float (nullable = true)\n",
            " |-- valor_total: double (nullable = true)\n",
            " |-- data: date (nullable = true)\n",
            " |-- data_hr: string (nullable = true)\n",
            " |-- hora: string (nullable = true)\n",
            "\n"
          ]
        }
      ]
    },
    {
      "cell_type": "code",
      "source": [
        "from pyspark.sql.functions import unix_timestamp, from_unixtime\n",
        "\n",
        "# unix_timestamp -> Converte uma string de data/hora em um timestamp\n",
        "# Para que serve: Qando você precisa trabalhar com tempo como número (por exemplo, calcular diferença entre em segundos entre duas datas)\n",
        "\n",
        "# from_unitime -> Converte um número (segundos desde a época Unix) de volta para um timestamp legível\n",
        "# Para que serve: Para transformar de volta valores de segundos em data legível - útil após cálculos com unix_timestamp\n",
        "\n",
        "itens_pedido_data_reverso_df = itens_pedido_data_df.withColumn('timestamp', unix_timestamp(col('data_hr'), \"dd/MM/yyyy\"))\n",
        "\n",
        "itens_pedido_data_reverso_df = itens_pedido_data_reverso_df.withColumn('data_formatada', from_unixtime('timestamp', 'yyyy-MM-dd')).withColumn('data_formatada', col('data_formatada').cast('date'))\n",
        "\n",
        "itens_pedido_data_reverso_df.show()\n",
        "itens_pedido_data_reverso_df.printSchema()"
      ],
      "metadata": {
        "colab": {
          "base_uri": "https://localhost:8080/"
        },
        "id": "HdMQ1ralFs63",
        "outputId": "89e330cc-f22c-493a-b5e4-527bb14b4f3d"
      },
      "execution_count": 14,
      "outputs": [
        {
          "output_type": "stream",
          "name": "stdout",
          "text": [
            "+--------------------+--------------+--------------------+--------------------+-------------------+------+-----+-----------+------------------+----------+----------+--------+----------+--------------+\n",
            "|           id_pedido|item_id_pedido|          id_produto|         id_vendedor|  data_limite_envio| preco|frete|calor_frete|       valor_total|      data|   data_hr|    hora| timestamp|data_formatada|\n",
            "+--------------------+--------------+--------------------+--------------------+-------------------+------+-----+-----------+------------------+----------+----------+--------+----------+--------------+\n",
            "|00010242fe8c5a6d1...|             1|4244733e06e7ecb49...|48436dade18ac8b2b...|2017-09-19 09:45:35|  58.9|13.29|      13.29|  72.1900015258789|2017-09-19|19/09/2017|09:45:35|1505779200|    2017-09-19|\n",
            "|00018f77f2f0320c5...|             1|e5f2d52b802189ee6...|dd7ddc04e1b6c2c61...|2017-05-03 11:05:13| 239.9|19.93|      19.93| 259.8299938964844|2017-05-03|03/05/2017|11:05:13|1493769600|    2017-05-03|\n",
            "|000229ec398224ef6...|             1|c777355d18b72b67a...|5b51032eddd242adc...|2018-01-18 14:48:30| 199.0|17.87|      17.87|            216.87|2018-01-18|18/01/2018|14:48:30|1516233600|    2018-01-18|\n",
            "|00024acbcdf0a6daa...|             1|7634da152a4610f15...|9d7a1d34a50524090...|2018-08-15 10:10:18| 12.99|12.79|      12.79|25.779999771118163|2018-08-15|15/08/2018|10:10:18|1534291200|    2018-08-15|\n",
            "|00042b26cf59d7ce6...|             1|ac6c3623068f30de0...|df560393f3a51e745...|2017-02-13 13:57:51| 199.9|18.14|      18.14|218.03999389648436|2017-02-13|13/02/2017|13:57:51|1486944000|    2017-02-13|\n",
            "|00048cc3ae777c65d...|             1|ef92defde845ab845...|6426d21aca402a131...|2017-05-23 03:55:27|  21.9|12.69|      12.69| 34.58999961853027|2017-05-23|23/05/2017|03:55:27|1495497600|    2017-05-23|\n",
            "|00054e8431b9d7675...|             1|8d4f2bb7e93e6710a...|7040e82f899a04d1b...|2017-12-14 12:10:31|  19.9|11.85|      11.85|31.749999618530275|2017-12-14|14/12/2017|12:10:31|1513209600|    2017-12-14|\n",
            "|000576fe39319847c...|             1|557d850972a7d6f79...|5996cddab893a4652...|2018-07-10 12:30:45| 810.0|70.75|      70.75|            880.75|2018-07-10|10/07/2018|12:30:45|1531180800|    2018-07-10|\n",
            "|0005a1a1728c9d785...|             1|310ae3c140ff94b03...|a416b6a846a117243...|2018-03-26 18:31:29|145.95|11.65|      11.65| 157.5999969482422|2018-03-26|26/03/2018|18:31:29|1522022400|    2018-03-26|\n",
            "|0005f50442cb953dc...|             1|4535b0e1091c278df...|ba143b05f0110f0dc...|2018-07-06 14:10:56| 53.99| 11.4|       11.4|  65.3900016784668|2018-07-06|06/07/2018|14:10:56|1530835200|    2018-07-06|\n",
            "|00061f2a7bc09da83...|             1|d63c1011f49d98b97...|cc419e0650a3c5ba7...|2018-03-29 22:28:09| 59.99| 8.88|       8.88| 68.87000167846679|2018-03-29|29/03/2018|22:28:09|1522281600|    2018-03-29|\n",
            "|00063b381e2406b52...|             1|f177554ea93259a5b...|8602a61d680a10a82...|2018-07-31 17:30:39|  45.0|12.98|      12.98|57.980000000000004|2018-07-31|31/07/2018|17:30:39|1532995200|    2018-07-31|\n",
            "|0006ec9db01a64e59...|             1|99a4788cb24856965...|4a3ca9315b744ce9f...|2018-07-26 17:24:20|  74.0|23.32|      23.32|             97.32|2018-07-26|26/07/2018|17:24:20|1532563200|    2018-07-26|\n",
            "|0008288aa423d2a3f...|             1|368c6c730842d7801...|1f50f920176fa81da...|2018-02-21 02:55:52|  49.9|13.37|      13.37|63.270001525878904|2018-02-21|21/02/2018|02:55:52|1519171200|    2018-02-21|\n",
            "|0008288aa423d2a3f...|             2|368c6c730842d7801...|1f50f920176fa81da...|2018-02-21 02:55:52|  49.9|13.37|      13.37|63.270001525878904|2018-02-21|21/02/2018|02:55:52|1519171200|    2018-02-21|\n",
            "|0009792311464db53...|             1|8cab8abac59158715...|530ec6109d11eaaf8...|2018-08-17 12:15:10|  99.9|27.65|      27.65|127.55000152587891|2018-08-17|17/08/2018|12:15:10|1534464000|    2018-08-17|\n",
            "|0009c9a17f916a706...|             1|3f27ac8e699df3d30...|fcb5ace8bcc92f757...|2018-05-02 09:31:53| 639.0|11.34|      11.34|            650.34|2018-05-02|02/05/2018|09:31:53|1525219200|    2018-05-02|\n",
            "|000aed2e25dbad2f9...|             1|4fa33915031a8cde0...|fe2032dab1a61af87...|2018-05-16 20:57:03| 144.0| 8.77|       8.77|            152.77|2018-05-16|16/05/2018|20:57:03|1526428800|    2018-05-16|\n",
            "|000c3e6612759851c...|             1|b50c950aba0dcead2...|218d46b86c1881d02...|2017-08-21 03:33:13|  99.0|13.71|      13.71|112.71000000000001|2017-08-21|21/08/2017|03:33:13|1503273600|    2017-08-21|\n",
            "|000e562887b1f2006...|             1|5ed9eaf534f6936b5...|8cbac7e12637ed9cf...|2018-02-28 12:08:37|  25.0|16.11|      16.11|             41.11|2018-02-28|28/02/2018|12:08:37|1519776000|    2018-02-28|\n",
            "+--------------------+--------------+--------------------+--------------------+-------------------+------+-----+-----------+------------------+----------+----------+--------+----------+--------------+\n",
            "only showing top 20 rows\n",
            "\n",
            "root\n",
            " |-- id_pedido: string (nullable = true)\n",
            " |-- item_id_pedido: integer (nullable = true)\n",
            " |-- id_produto: string (nullable = true)\n",
            " |-- id_vendedor: string (nullable = true)\n",
            " |-- data_limite_envio: timestamp (nullable = true)\n",
            " |-- preco: float (nullable = true)\n",
            " |-- frete: double (nullable = true)\n",
            " |-- calor_frete: float (nullable = true)\n",
            " |-- valor_total: double (nullable = true)\n",
            " |-- data: date (nullable = true)\n",
            " |-- data_hr: string (nullable = true)\n",
            " |-- hora: string (nullable = true)\n",
            " |-- timestamp: long (nullable = true)\n",
            " |-- data_formatada: date (nullable = true)\n",
            "\n"
          ]
        }
      ]
    },
    {
      "cell_type": "code",
      "source": [
        "itens_pedido_data_df.write.mode('overwrite').option('header', 'true').csv('/content/drive/MyDrive/Colab Notebooks/data/output/itens_pedido_tratado_csv')"
      ],
      "metadata": {
        "id": "zfVkWaASGfqr"
      },
      "execution_count": 18,
      "outputs": []
    },
    {
      "cell_type": "code",
      "source": [
        "spark.read.option('header', 'true').csv('/content/drive/MyDrive/Colab Notebooks/data/output/itens_pedido_tratado_csv').show(5)"
      ],
      "metadata": {
        "colab": {
          "base_uri": "https://localhost:8080/"
        },
        "id": "oGaVnea2GwzH",
        "outputId": "7c7253ac-27e3-454a-a26d-c02c40bcb09f"
      },
      "execution_count": 19,
      "outputs": [
        {
          "output_type": "stream",
          "name": "stdout",
          "text": [
            "+--------------------+--------------+--------------------+--------------------+--------------------+-----+-----+-----------+------------------+----------+----------+--------+\n",
            "|           id_pedido|item_id_pedido|          id_produto|         id_vendedor|   data_limite_envio|preco|frete|calor_frete|       valor_total|      data|   data_hr|    hora|\n",
            "+--------------------+--------------+--------------------+--------------------+--------------------+-----+-----+-----------+------------------+----------+----------+--------+\n",
            "|00010242fe8c5a6d1...|             1|4244733e06e7ecb49...|48436dade18ac8b2b...|2017-09-19T09:45:...| 58.9|13.29|      13.29|  72.1900015258789|2017-09-19|19/09/2017|09:45:35|\n",
            "|00018f77f2f0320c5...|             1|e5f2d52b802189ee6...|dd7ddc04e1b6c2c61...|2017-05-03T11:05:...|239.9|19.93|      19.93| 259.8299938964844|2017-05-03|03/05/2017|11:05:13|\n",
            "|000229ec398224ef6...|             1|c777355d18b72b67a...|5b51032eddd242adc...|2018-01-18T14:48:...|199.0|17.87|      17.87|            216.87|2018-01-18|18/01/2018|14:48:30|\n",
            "|00024acbcdf0a6daa...|             1|7634da152a4610f15...|9d7a1d34a50524090...|2018-08-15T10:10:...|12.99|12.79|      12.79|25.779999771118163|2018-08-15|15/08/2018|10:10:18|\n",
            "|00042b26cf59d7ce6...|             1|ac6c3623068f30de0...|df560393f3a51e745...|2017-02-13T13:57:...|199.9|18.14|      18.14|218.03999389648436|2017-02-13|13/02/2017|13:57:51|\n",
            "+--------------------+--------------+--------------------+--------------------+--------------------+-----+-----+-----------+------------------+----------+----------+--------+\n",
            "only showing top 5 rows\n",
            "\n"
          ]
        }
      ]
    },
    {
      "cell_type": "code",
      "source": [
        "spark.stop()"
      ],
      "metadata": {
        "id": "cTrssRY1G-3m"
      },
      "execution_count": 20,
      "outputs": []
    }
  ]
}