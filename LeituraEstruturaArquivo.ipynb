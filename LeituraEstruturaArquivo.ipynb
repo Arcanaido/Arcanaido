{
  "nbformat": 4,
  "nbformat_minor": 0,
  "metadata": {
    "colab": {
      "provenance": [],
      "authorship_tag": "ABX9TyOWN/n8RxMYcgYFphbQIDCR",
      "include_colab_link": true
    },
    "kernelspec": {
      "name": "python3",
      "display_name": "Python 3"
    },
    "language_info": {
      "name": "python"
    }
  },
  "cells": [
    {
      "cell_type": "markdown",
      "metadata": {
        "id": "view-in-github",
        "colab_type": "text"
      },
      "source": [
        "<a href=\"https://colab.research.google.com/github/Arcanaido/Arcanaido/blob/main/LeituraEstruturaArquivo.ipynb\" target=\"_parent\"><img src=\"https://colab.research.google.com/assets/colab-badge.svg\" alt=\"Open In Colab\"/></a>"
      ]
    },
    {
      "cell_type": "code",
      "source": [
        "!pip install pyspark"
      ],
      "metadata": {
        "colab": {
          "base_uri": "https://localhost:8080/"
        },
        "id": "DR_tbgMek75q",
        "outputId": "7a375d38-283d-4cba-99d1-77cc51b43953"
      },
      "execution_count": null,
      "outputs": [
        {
          "output_type": "stream",
          "name": "stdout",
          "text": [
            "Requirement already satisfied: pyspark in /usr/local/lib/python3.11/dist-packages (3.5.1)\n",
            "Requirement already satisfied: py4j==0.10.9.7 in /usr/local/lib/python3.11/dist-packages (from pyspark) (0.10.9.7)\n"
          ]
        }
      ]
    },
    {
      "cell_type": "code",
      "source": [
        "from google.colab import drive\n",
        "drive.mount('/content/drive')"
      ],
      "metadata": {
        "colab": {
          "base_uri": "https://localhost:8080/"
        },
        "id": "NpSucdtrVdrR",
        "outputId": "f3254db6-dbdf-4be8-8719-b903601a5fd1"
      },
      "execution_count": null,
      "outputs": [
        {
          "output_type": "stream",
          "name": "stdout",
          "text": [
            "Mounted at /content/drive\n"
          ]
        }
      ]
    },
    {
      "cell_type": "code",
      "execution_count": null,
      "metadata": {
        "id": "VEC6a2gOkFwn"
      },
      "outputs": [],
      "source": [
        "import pyspark\n",
        "from pyspark.sql import SparkSession\n",
        "from pyspark.sql.types import *\n",
        "from datetime import date"
      ]
    },
    {
      "cell_type": "code",
      "source": [
        "spark = SparkSession.builder.getOrCreate()"
      ],
      "metadata": {
        "id": "W1VZnx7rkXo1"
      },
      "execution_count": null,
      "outputs": []
    },
    {
      "cell_type": "code",
      "source": [
        "df = spark.read.csv('clientes_tratados.csv')"
      ],
      "metadata": {
        "id": "GmNed_wcNr6C"
      },
      "execution_count": null,
      "outputs": []
    },
    {
      "cell_type": "code",
      "source": [
        "df.take(5)"
      ],
      "metadata": {
        "id": "AMPcbHnxdGlH",
        "colab": {
          "base_uri": "https://localhost:8080/"
        },
        "outputId": "cf4cd952-e127-4f35-e52c-489c5b1ae126"
      },
      "execution_count": null,
      "outputs": [
        {
          "output_type": "execute_result",
          "data": {
            "text/plain": [
              "[Row(nome='Arthur Montenegro', cpf='385.***.***-80', idade=29.0, data=datetime.date(1995, 8, 31), endereço='vereda isabela almeida, 8', bairro='pantanal', estado='ES'),\n",
              " Row(nome='Sra. Ágatha Cavalcanti', cpf='952.***.***-85', idade=43.0, data=datetime.date(1982, 6, 25), endereço='estrada de da luz', bairro='providencia', estado='CE'),\n",
              " Row(nome='Calebe Da Cruz', cpf='746.***.***-09', idade=54.0, data=datetime.date(1971, 10, 17), endereço='ladeira gael marques, 25', bairro='carlos prates', estado='PA'),\n",
              " Row(nome='Maysa Costa', cpf='914.***.***-33', idade=39.0, data=datetime.date(1986, 10, 14), endereço='praça silva, 4', bairro='suzana', estado='PI'),\n",
              " Row(nome='Beatriz Cardoso', cpf='760.***.***-74', idade=34.0, data=datetime.date(1990, 7, 26), endereço='vila ravi vasconcelos', bairro='vila pinho', estado='AM')]"
            ]
          },
          "metadata": {},
          "execution_count": 31
        }
      ]
    },
    {
      "cell_type": "code",
      "source": [
        "df.show()"
      ],
      "metadata": {
        "id": "_LH0FQDkdUl9",
        "colab": {
          "base_uri": "https://localhost:8080/"
        },
        "outputId": "d65f5f2c-356c-4e3c-eec1-253395764aa5"
      },
      "execution_count": null,
      "outputs": [
        {
          "output_type": "stream",
          "name": "stdout",
          "text": [
            "+--------------------+--------------+-----+----------+--------------------+-------------------+------+\n",
            "|                nome|           cpf|idade|      data|            endereço|             bairro|estado|\n",
            "+--------------------+--------------+-----+----------+--------------------+-------------------+------+\n",
            "|   Arthur Montenegro|385.***.***-80| 29.0|1995-08-31|vereda isabela al...|           pantanal|    ES|\n",
            "|Sra. Ágatha Caval...|952.***.***-85| 43.0|1982-06-25|   estrada de da luz|        providencia|    CE|\n",
            "|      Calebe Da Cruz|746.***.***-09| 54.0|1971-10-17|ladeira gael marq...|      carlos prates|    PA|\n",
            "|         Maysa Costa|914.***.***-33| 39.0|1986-10-14|      praça silva, 4|             suzana|    PI|\n",
            "|     Beatriz Cardoso|760.***.***-74| 34.0|1990-07-26|vila ravi vasconc...|         vila pinho|    AM|\n",
            "| Sr. Danilo Da Cunha|136.***.***-35| 43.0|1981-10-19|    fazenda ramos, 8|coração eucarístico|    PB|\n",
            "|   Melina Nascimento|196.***.***-39| 22.0|2002-10-25|      área ramos, 75|          biquinhas|    PB|\n",
            "|         Yago Fogaça|124.***.***-32| 19.0|2006-09-16|     praia guerra, 1| ernesto nascimento|    PI|\n",
            "|    Valentim Ribeiro|618.***.***-42| 20.0|2004-09-29|conjunto de borge...|              união|    SP|\n",
            "+--------------------+--------------+-----+----------+--------------------+-------------------+------+\n",
            "\n"
          ]
        }
      ]
    },
    {
      "cell_type": "code",
      "source": [
        "df.printSchema()"
      ],
      "metadata": {
        "id": "N7vIRw8adWoo",
        "colab": {
          "base_uri": "https://localhost:8080/"
        },
        "outputId": "d91877c0-79ac-481f-c773-66ce2cc96239"
      },
      "execution_count": null,
      "outputs": [
        {
          "output_type": "stream",
          "name": "stdout",
          "text": [
            "root\n",
            " |-- nome: string (nullable = true)\n",
            " |-- cpf: string (nullable = true)\n",
            " |-- idade: float (nullable = true)\n",
            " |-- data: date (nullable = true)\n",
            " |-- endereço: string (nullable = true)\n",
            " |-- bairro: string (nullable = true)\n",
            " |-- estado: string (nullable = true)\n",
            "\n"
          ]
        }
      ]
    },
    {
      "cell_type": "code",
      "source": [
        "df = spark.read.option('header', 'true').csv('clientes_tratados.csv')"
      ],
      "metadata": {
        "id": "aYGIU8SMdaOM"
      },
      "execution_count": null,
      "outputs": []
    },
    {
      "cell_type": "code",
      "source": [
        "df = spark.read.option('header', 'true').option('inferSchema', 'true').csv('clientes_tratados.csv')"
      ],
      "metadata": {
        "id": "AGPIWmT0dwNU"
      },
      "execution_count": null,
      "outputs": []
    },
    {
      "cell_type": "code",
      "source": [
        "df = spark.read.\\\n",
        "    option('sep', ',').\\\n",
        "    option('hearder', 'true').\\\n",
        "    option('mode', 'DROPMALFORMED').\\\n",
        "    option('inferSchema', 'true').\\\n",
        "    csv('clientes_tratados.csv')"
      ],
      "metadata": {
        "id": "kPPA9XoHeDrf"
      },
      "execution_count": null,
      "outputs": []
    },
    {
      "cell_type": "code",
      "source": [
        "lista_campos = [\n",
        "    StructField('nome', StringType()),\n",
        "    StructField('cpf', StringType()),\n",
        "    StructField('idade', FloatType()),\n",
        "    StructField('data', DateType()),\n",
        "    StructField('endereço', StringType()),\n",
        "    StructField('bairro', StringType()),\n",
        "    StructField('estado', StringType())\n",
        "]\n",
        "schema_definido = StructType(lista_campos)"
      ],
      "metadata": {
        "id": "HeAKlRhsekb5"
      },
      "execution_count": null,
      "outputs": []
    },
    {
      "cell_type": "code",
      "source": [
        "df = spark.read.option('header', 'true').schema(schema_definido).csv('clientes_tratados.csv')"
      ],
      "metadata": {
        "id": "PmBwuk5iPT5D"
      },
      "execution_count": null,
      "outputs": []
    },
    {
      "cell_type": "code",
      "source": [
        "Schema = Row('id', 'setor')\n",
        "gerar_dados_novos = [\n",
        "    Schema(1, 'vendas'),\n",
        "    Schema(2, 'TI'),\n",
        "    Schema(3, 'RH')\n",
        "]\n",
        "\n",
        "df_dados_testes_2 = spark.createDataFrame(data=gerar_dados_novos)\n",
        "\n",
        "df_dados_testes_2.printSchema()"
      ],
      "metadata": {
        "id": "HxiiF4_MP3Iy",
        "colab": {
          "base_uri": "https://localhost:8080/"
        },
        "outputId": "48c8f3a6-4fe6-4ec5-c9aa-e644882e7ec0"
      },
      "execution_count": null,
      "outputs": [
        {
          "output_type": "stream",
          "name": "stdout",
          "text": [
            "root\n",
            " |-- id: long (nullable = true)\n",
            " |-- setor: string (nullable = true)\n",
            "\n"
          ]
        }
      ]
    },
    {
      "cell_type": "code",
      "metadata": {
        "id": "bbc45af8"
      },
      "source": [
        "columns_list = [\n",
        "    StructField('id', StringType()),\n",
        "    StructField('setor', StringType())\n",
        "]\n",
        "setor_schema = StructType(columns_list)"
      ],
      "execution_count": null,
      "outputs": []
    },
    {
      "cell_type": "code",
      "source": [
        "# Criação de Dados\n",
        "dados_teste = [\n",
        "    Row(nome='Arthur Montenegro', cpf='385.***.***-80', idade=29.0, date=date(1995, 8, 31), endereço='vereda isabela almeida, 8', bairro='pantanal', estado='ES'),\n",
        "    Row(nome='Sra. Ágatha Cavalcanti', cpf='952.***.***-85', idade=43.0, date=date(1982, 6, 25), endereço='estrada de da luz', bairro='providencia', estado='CE'),\n",
        "    Row(nome='Calebe Da Cruz', cpf='746.***.***-09', idade=54.0, data=date(1971, 10, 17), endereço='ladeira gael marques, 25', bairro='carlos prates', estado='PA'),\n",
        "    Row(nome='Maysa Costa', cpf='914.***.***-33', idade=39.0, data=date(1986, 10, 14), endereço='praça silva, 4', bairro='suzana', estado='PI'),\n",
        "    Row(nome='Beatriz Cardoso', cpf='760.***.***-74', idade=34.0, data=date(1990, 7, 26), endereço='vila ravi vasconcelos', bairro='vila pinho', estado='AM')\n",
        "]"
      ],
      "metadata": {
        "id": "Cp6wZ8BLYb1o"
      },
      "execution_count": null,
      "outputs": []
    },
    {
      "cell_type": "code",
      "source": [
        "df_parcial = spark.createDataFrame(data=dados_teste, schema=schema_definido)"
      ],
      "metadata": {
        "id": "g6F67hLHY1yF"
      },
      "execution_count": null,
      "outputs": []
    },
    {
      "cell_type": "code",
      "source": [
        "df_parcial.printSchema()"
      ],
      "metadata": {
        "colab": {
          "base_uri": "https://localhost:8080/"
        },
        "id": "b4MeKJEH2UBr",
        "outputId": "72d02cd5-7ca3-4851-e9e8-f8a79d5e772f"
      },
      "execution_count": null,
      "outputs": [
        {
          "output_type": "stream",
          "name": "stdout",
          "text": [
            "root\n",
            " |-- nome: string (nullable = true)\n",
            " |-- cpf: string (nullable = true)\n",
            " |-- idade: float (nullable = true)\n",
            " |-- data: date (nullable = true)\n",
            " |-- endereço: string (nullable = true)\n",
            " |-- bairro: string (nullable = true)\n",
            " |-- estado: string (nullable = true)\n",
            "\n"
          ]
        }
      ]
    },
    {
      "cell_type": "code",
      "source": [
        "df_parcial.show()"
      ],
      "metadata": {
        "colab": {
          "base_uri": "https://localhost:8080/"
        },
        "id": "aqnYhHa12XvH",
        "outputId": "e5590c84-9912-4ab6-9e07-84c63985227e"
      },
      "execution_count": null,
      "outputs": [
        {
          "output_type": "stream",
          "name": "stdout",
          "text": [
            "+--------------------+--------------+-----+----------+--------------------+-------------+------+\n",
            "|                nome|           cpf|idade|      data|            endereço|       bairro|estado|\n",
            "+--------------------+--------------+-----+----------+--------------------+-------------+------+\n",
            "|   Arthur Montenegro|385.***.***-80| 29.0|1995-08-31|vereda isabela al...|     pantanal|    ES|\n",
            "|Sra. Ágatha Caval...|952.***.***-85| 43.0|1982-06-25|   estrada de da luz|  providencia|    CE|\n",
            "|      Calebe Da Cruz|746.***.***-09| 54.0|1971-10-17|ladeira gael marq...|carlos prates|    PA|\n",
            "|         Maysa Costa|914.***.***-33| 39.0|1986-10-14|      praça silva, 4|       suzana|    PI|\n",
            "|     Beatriz Cardoso|760.***.***-74| 34.0|1990-07-26|vila ravi vasconc...|   vila pinho|    AM|\n",
            "+--------------------+--------------+-----+----------+--------------------+-------------+------+\n",
            "\n"
          ]
        }
      ]
    },
    {
      "cell_type": "code",
      "source": [
        "spark.stop()"
      ],
      "metadata": {
        "id": "T_zz8pcg2bHN"
      },
      "execution_count": null,
      "outputs": []
    }
  ]
}